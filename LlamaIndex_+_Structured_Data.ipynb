{
 "cells": [
  {
   "cell_type": "markdown",
   "id": "8ddd4bba",
   "metadata": {},
   "source": [
    "First, we use SQLAlchemy to setup a simple sqlite db:\n"
   ]
  },
  {
   "cell_type": "code",
   "execution_count": 36,
   "id": "dfb08ec4",
   "metadata": {},
   "outputs": [],
   "source": [
    "from sqlalchemy import create_engine, MetaData, Table, Column, String, Integer, select, column\n",
    "\n",
    "engine = create_engine(\"sqlite:///:memory:\",future=True)\n",
    "metadata_obj = MetaData(bind=engine)\n"
   ]
  },
  {
   "cell_type": "code",
   "execution_count": 37,
   "id": "7a13815a",
   "metadata": {},
   "outputs": [],
   "source": [
    "# create city SQL table\n",
    "table_name = \"city_stats\"\n",
    "city_stats_table = Table(\n",
    "    table_name,\n",
    "    metadata_obj,\n",
    "    Column(\"city_name\", String(16), primary_key=True),\n",
    "    Column(\"population\", Integer),\n",
    "    Column(\"country\", String(16), nullable=False),\n",
    ")\n",
    "metadata_obj.create_all()"
   ]
  },
  {
   "cell_type": "markdown",
   "id": "abb4bb00",
   "metadata": {},
   "source": [
    "Now it’s time to insert some datapoints!"
   ]
  },
  {
   "cell_type": "code",
   "execution_count": 38,
   "id": "8e529968",
   "metadata": {},
   "outputs": [],
   "source": [
    "from sqlalchemy import insert\n",
    "rows = [\n",
    "    {\"city_name\": \"Toronto\", \"population\": 2731571, \"country\": \"Canada\"},\n",
    "    {\"city_name\": \"Tokyo\", \"population\": 13929286, \"country\": \"Japan\"},\n",
    "    {\"city_name\": \"Berlin\", \"population\": 600000, \"country\": \"Germany\"},\n",
    "]\n",
    "for row in rows:\n",
    "    stmt = insert(city_stats_table).values(**row)\n",
    "    with engine.connect() as connection:\n",
    "        cursor = connection.execute(stmt)"
   ]
  },
  {
   "cell_type": "markdown",
   "id": "6d04f07f",
   "metadata": {},
   "source": [
    "Finally, we can wrap the SQLAlchemy engine with our SQLDatabase wrapper; this allows the db to be used within LlamaIndex:"
   ]
  },
  {
   "cell_type": "code",
   "execution_count": 39,
   "id": "ffc4e554",
   "metadata": {},
   "outputs": [],
   "source": [
    "from llama_index import SQLDatabase\n",
    "\n",
    "sql_database = SQLDatabase(engine, include_tables=[\"city_stats\"])"
   ]
  },
  {
   "cell_type": "markdown",
   "id": "0a2bf36e",
   "metadata": {},
   "source": [
    " In this section, we show how we can populate the city_stats table by ingesting Wikipedia articles about each city.\n",
    "\n",
    "First, we use the Wikipedia reader from LlamaHub to load some pages regarding the relevant data."
   ]
  },
  {
   "cell_type": "code",
   "execution_count": 41,
   "id": "cdc4ee45",
   "metadata": {},
   "outputs": [],
   "source": [
    "from llama_index import download_loader\n",
    "\n",
    "WikipediaReader = download_loader(\"WikipediaReader\")\n",
    "wiki_docs = WikipediaReader().load_data(pages=['Moscow','Toronto','Tokyo','Berlin'])"
   ]
  },
  {
   "cell_type": "markdown",
   "id": "050efb5e",
   "metadata": {},
   "source": [
    "When we build the SQL index, we can specify these docs as the first input; these documents will be converted to structured datapoints and inserted into the db:"
   ]
  },
  {
   "cell_type": "code",
   "execution_count": 42,
   "id": "377db917",
   "metadata": {},
   "outputs": [
    {
     "name": "stderr",
     "output_type": "stream",
     "text": [
      "INFO:llama_index.indices.common.struct_store.base:> Adding chunk 0: Moscow ( MOS-koh, US chiefly  MOS-kow; Russian:...\n",
      "INFO:llama_index.indices.common.struct_store.base:> Adding chunk 1: of the origin of the name of the river have bee...\n",
      "INFO:llama_index.indices.common.struct_store.base:> Adding chunk 2: meaning both \"forty, a great many\" and \"a distr...\n",
      "INFO:llama_index.indices.common.struct_store.base:> Adding chunk 3: for many years and attracted a large number of ...\n",
      "INFO:llama_index.indices.common.struct_store.base:> Adding chunk 4: width of 36 metres (118 feet), and a depth of 9...\n",
      "INFO:llama_index.indices.common.struct_store.base:> Adding chunk 5: all of them being driven from their homeland to...\n",
      "INFO:llama_index.indices.common.struct_store.base:> Adding chunk 6: on the platform of the Lobnoye mesto.\n",
      "The road ...\n",
      "INFO:llama_index.indices.common.struct_store.base:> Adding chunk 7: the political centre of the new state.\n",
      "With the...\n",
      "INFO:llama_index.indices.common.struct_store.base:> Adding chunk 8: 1964; of Moscow's fifty churches operating in 1...\n",
      "INFO:llama_index.indices.common.struct_store.base:> Adding chunk 9: canals within the city's limits. The elevation ...\n",
      "INFO:llama_index.indices.common.struct_store.base:> Adding chunk 10: In the winter, moist air from the Atlantic cond...\n",
      "INFO:llama_index.indices.common.struct_store.base:> Adding chunk 11: the majority of the city's population; most of ...\n",
      "INFO:llama_index.indices.common.struct_store.base:> Adding chunk 12: Tower, just one of many hyperboloid towers desi...\n",
      "INFO:llama_index.indices.common.struct_store.base:> Adding chunk 13: criticized for alleged disrespect of historical...\n",
      "INFO:llama_index.indices.common.struct_store.base:> Adding chunk 14: Fili and Sokolniki). Some parks are designated ...\n",
      "INFO:llama_index.indices.common.struct_store.base:> Adding chunk 15: centuries. The Church of the Ascension at Kolom...\n",
      "INFO:llama_index.indices.common.struct_store.base:> Adding chunk 16: border for Moscow boundaries.Outside Moscow, so...\n",
      "INFO:llama_index.indices.common.struct_store.base:> Adding chunk 17: that includes also the triumphal arch, erected ...\n",
      "INFO:llama_index.indices.common.struct_store.base:> Adding chunk 18: 2012 Summer Olympics. However, when final votin...\n",
      "INFO:llama_index.indices.common.struct_store.base:> Adding chunk 19: have also won the World Cup thrice and European...\n",
      "INFO:llama_index.indices.common.struct_store.base:> Adding chunk 20: members are elected in accordance with the Char...\n",
      "INFO:llama_index.indices.common.struct_store.base:> Adding chunk 21: which was completed in 2005. Hence, the charact...\n",
      "INFO:llama_index.indices.common.struct_store.base:> Adding chunk 22: Research and Production Space Center produces v...\n",
      "INFO:llama_index.indices.common.struct_store.base:> Adding chunk 23: three-bedroom apartment is seventy square metre...\n",
      "INFO:llama_index.indices.common.struct_store.base:> Adding chunk 24: the tallest building on the continent. The univ...\n",
      "INFO:llama_index.indices.common.struct_store.base:> Adding chunk 25: 4,500 students make up the university's student...\n",
      "INFO:llama_index.indices.common.struct_store.base:> Adding chunk 26: Moscow Metro system is famous for its art, mura...\n",
      "INFO:llama_index.indices.common.struct_store.base:> Adding chunk 27: and sports institutions, and within the Garden ...\n",
      "INFO:llama_index.indices.common.struct_store.base:> Adding chunk 28: spend on the same journey by car. The cable car...\n",
      "INFO:llama_index.indices.common.struct_store.base:> Adding chunk 29: 14 million kilometres. Robotaxis will available...\n",
      "INFO:llama_index.indices.common.struct_store.base:> Adding chunk 30: the Moscow Central Diameters, a pass-through ra...\n",
      "INFO:llama_index.indices.common.struct_store.base:> Adding chunk 31: Sergey Sobyanin said Moscow's car sharing syste...\n",
      "INFO:llama_index.indices.common.struct_store.base:> Adding chunk 32: and magazines.\n",
      "\n",
      "\n",
      "=== Newspapers ===\n",
      "\n",
      "English-la...\n",
      "INFO:llama_index.indices.common.struct_store.base:> Adding chunk 0: Toronto ( (listen) tə-RON-toh; locally [təˈɹɒɾ̃...\n",
      "INFO:llama_index.indices.common.struct_store.base:> Adding chunk 1: Tarontha, Taronto, Toranto, Torento, Toronto, a...\n",
      "INFO:llama_index.indices.common.struct_store.base:> Adding chunk 2: part of the War of 1812, the Battle of York end...\n",
      "INFO:llama_index.indices.common.struct_store.base:> Adding chunk 3: to drill a company at Company Drill, the intern...\n",
      "INFO:llama_index.indices.common.struct_store.base:> Adding chunk 4: government began to manage services that crosse...\n",
      "INFO:llama_index.indices.common.struct_store.base:> Adding chunk 5: what was perceived as a frivolous use of resour...\n",
      "INFO:llama_index.indices.common.struct_store.base:> Adding chunk 6: upward away from the lake. The flat land is int...\n",
      "INFO:llama_index.indices.common.struct_store.base:> Adding chunk 7: land of Toronto and deposited it in the shallow...\n",
      "INFO:llama_index.indices.common.struct_store.base:> Adding chunk 8: of York and East York. These are mature and tra...\n",
      "INFO:llama_index.indices.common.struct_store.base:> Adding chunk 9: of Peel and York Regions; but also within the c...\n",
      "INFO:llama_index.indices.common.struct_store.base:> Adding chunk 10: of the Art Gallery of Ontario, and Will Alsop's...\n",
      "INFO:llama_index.indices.common.struct_store.base:> Adding chunk 11: a low of 28 percent in December to 60% in July....\n",
      "INFO:llama_index.indices.common.struct_store.base:> Adding chunk 12: total private dwellings, a change of 2.3% from ...\n",
      "INFO:llama_index.indices.common.struct_store.base:> Adding chunk 13: are projected to increase to 63 per cent of the...\n",
      "INFO:llama_index.indices.common.struct_store.base:> Adding chunk 14: Canada, collectively known as the Big Five, hav...\n",
      "INFO:llama_index.indices.common.struct_store.base:> Adding chunk 15: is one of the centres of Canada's film and tele...\n",
      "INFO:llama_index.indices.common.struct_store.base:> Adding chunk 16: for Contemporary Culture, the Toronto Sculpture...\n",
      "INFO:llama_index.indices.common.struct_store.base:> Adding chunk 17: Humber College, and Seneca College, operate sev...\n",
      "INFO:llama_index.indices.common.struct_store.base:> Adding chunk 18: symphony orchestras and a host of theatres. The...\n",
      "INFO:llama_index.indices.common.struct_store.base:> Adding chunk 19: Chicago, Los Angeles, Washington, D.C., and the...\n",
      "INFO:llama_index.indices.common.struct_store.base:> Adding chunk 20: city of Hamilton while retaining its Toronto na...\n",
      "INFO:llama_index.indices.common.struct_store.base:> Adding chunk 21: body, comprising 25 councillors, since the 2018...\n",
      "INFO:llama_index.indices.common.struct_store.base:> Adding chunk 22: plummeted to 51 murders—nearly a 26% drop from ...\n",
      "INFO:llama_index.indices.common.struct_store.base:> Adding chunk 23: over 250,000 passengers every weekday (2013) an...\n",
      "INFO:llama_index.indices.common.struct_store.base:> Adding chunk 24: of the Don Valley Parkway into the northern sub...\n",
      "INFO:llama_index.indices.common.struct_store.base:> Adding chunk 0: Tokyo (; Japanese: 東京, Tōkyō, [toːkʲoː] (listen...\n",
      "INFO:llama_index.indices.common.struct_store.base:> Adding chunk 1: of Tokyo include: Chiyoda, the site of the Nati...\n",
      "INFO:llama_index.indices.common.struct_store.base:> Adding chunk 2: the last Tokugawa shōgun, Yoshinobu, in 1867. A...\n",
      "INFO:llama_index.indices.common.struct_store.base:> Adding chunk 3: In 1978, Sunshine 60 – the tallest skyscraper i...\n",
      "INFO:llama_index.indices.common.struct_store.base:> Adding chunk 4: Kanagawa to the south, and Saitama to the north...\n",
      "INFO:llama_index.indices.common.struct_store.base:> Adding chunk 5: the former Tokyo City, yet is one of the least ...\n",
      "INFO:llama_index.indices.common.struct_store.base:> Adding chunk 6: Self-Defense Forces personnel. Local population...\n",
      "INFO:llama_index.indices.common.struct_store.base:> Adding chunk 7: (bay area) and 2 cm to 0.5 cm in central Tokyo....\n",
      "INFO:llama_index.indices.common.struct_store.base:> Adding chunk 8: every year, though few are strong. The wettest ...\n",
      "INFO:llama_index.indices.common.struct_store.base:> Adding chunk 9: Year Project for Green Tokyo\" to be realized by...\n",
      "INFO:llama_index.indices.common.struct_store.base:> Adding chunk 10: Singapore and Hong Kong as competing financial ...\n"
     ]
    },
    {
     "name": "stderr",
     "output_type": "stream",
     "text": [
      "INFO:llama_index.indices.common.struct_store.base:> Adding chunk 11: transportation within Tokyo is dominated by an ...\n",
      "INFO:llama_index.indices.common.struct_store.base:> Adding chunk 12: local wards or municipal offices. Most public s...\n",
      "INFO:llama_index.indices.common.struct_store.base:> Adding chunk 13: (Fuchū) and Toshiba Brave Lupus Tokyo (Fuchū).\n",
      "...\n",
      "INFO:llama_index.indices.common.struct_store.base:> Adding chunk 14: several of Tokyo's medical and scientific facil...\n",
      "INFO:llama_index.indices.common.struct_store.base:> Adding chunk 0: Berlin ( bur-LIN, German: [bɛʁˈliːn] (listen)) ...\n",
      "INFO:llama_index.indices.common.struct_store.base:> Adding chunk 1: the most visited zoo in Europe and one of the m...\n",
      "INFO:llama_index.indices.common.struct_store.base:> Adding chunk 2: of Moabit bears a French-derived name, and Fran...\n",
      "INFO:llama_index.indices.common.struct_store.base:> Adding chunk 3: initiated a policy of promoting immigration and...\n",
      "INFO:llama_index.indices.common.struct_store.base:> Adding chunk 4: as a way to express their power and authority t...\n",
      "INFO:llama_index.indices.common.struct_store.base:> Adding chunk 5: guaranteed access to and from West Berlin by ca...\n",
      "INFO:llama_index.indices.common.struct_store.base:> Adding chunk 6: was an unsuccessful attempt of unifying the sta...\n",
      "INFO:llama_index.indices.common.struct_store.base:> Adding chunk 7: oceanic climates. Furthermore, Berlin is classi...\n",
      "INFO:llama_index.indices.common.struct_store.base:> Adding chunk 8: 21st century, risen from the wastes of no-man's...\n",
      "INFO:llama_index.indices.common.struct_store.base:> Adding chunk 9: to the site of the former Berliner Stadtschloss...\n",
      "INFO:llama_index.indices.common.struct_store.base:> Adding chunk 10: and after the construction of the Berlin Wall i...\n",
      "INFO:llama_index.indices.common.struct_store.base:> Adding chunk 11: Ukrainian, French, British, Spanish, Israeli, T...\n",
      "INFO:llama_index.indices.common.struct_store.base:> Adding chunk 12: two seats of the Bulgarian Orthodox Diocese of ...\n",
      "INFO:llama_index.indices.common.struct_store.base:> Adding chunk 13: is elected by the borough assembly (Bezirksvero...\n",
      "INFO:llama_index.indices.common.struct_store.base:> Adding chunk 14: Transport and Digital Infrastructure and Educat...\n",
      "INFO:llama_index.indices.common.struct_store.base:> Adding chunk 15: figures have more than doubled within the last ...\n",
      "INFO:llama_index.indices.common.struct_store.base:> Adding chunk 16: German international public broadcaster Deutsch...\n",
      "INFO:llama_index.indices.common.struct_store.base:> Adding chunk 17: to and from Berlin by water, but some of the fr...\n",
      "INFO:llama_index.indices.common.struct_store.base:> Adding chunk 18: U-Bahn trains, on trams, and on night buses if ...\n",
      "INFO:llama_index.indices.common.struct_store.base:> Adding chunk 19: and other data in an MPEG transport stream.\n",
      "Ber...\n",
      "INFO:llama_index.indices.common.struct_store.base:> Adding chunk 20: of Economics and Law has an enrollment of about...\n",
      "INFO:llama_index.indices.common.struct_store.base:> Adding chunk 21: (Painting Gallery) focuses on the paintings of ...\n",
      "INFO:llama_index.indices.common.struct_store.base:> Adding chunk 22: as Blain Southern, Esther Schipper, Future Gall...\n",
      "INFO:llama_index.indices.common.struct_store.base:> Adding chunk 23: in 1890. The Berliner Ensemble, famous for perf...\n",
      "INFO:llama_index.indices.common.struct_store.base:> Adding chunk 24: is found at the KaDeWe, and among the world's l...\n",
      "INFO:llama_index.indices.common.struct_store.base:> Adding chunk 25: time Germany has ever hosted the Special Olympi...\n",
      "INFO:llama_index.token_counter.token_counter:> [build_index_from_nodes] Total LLM token usage: 101709 tokens\n",
      "INFO:llama_index.token_counter.token_counter:> [build_index_from_nodes] Total embedding token usage: 0 tokens\n"
     ]
    }
   ],
   "source": [
    "import os\n",
    "os.environ[\"OPENAI_API_KEY\"] = 'Enter-API-KEY'\n",
    "\n",
    "from llama_index import GPTSQLStructStoreIndex, SQLDatabase\n",
    "\n",
    "sql_database = SQLDatabase(engine, include_tables=[\"city_stats\"])\n",
    "# NOTE: the table_name specified here is the table that you\n",
    "# want to extract into from unstructured documents.\n",
    "index = GPTSQLStructStoreIndex.from_documents(\n",
    "    wiki_docs, \n",
    "    sql_database=sql_database, \n",
    "    table_name=\"city_stats\",\n",
    ")"
   ]
  },
  {
   "cell_type": "markdown",
   "id": "7f56c2f0",
   "metadata": {},
   "source": [
    "you can take a look at the current table to verify that the datapoints have been inserted!"
   ]
  },
  {
   "cell_type": "code",
   "execution_count": 43,
   "id": "cdf13480",
   "metadata": {},
   "outputs": [
    {
     "name": "stdout",
     "output_type": "stream",
     "text": [
      "[('Moscow', 25000, 'Russia'), ('Toronto', 1000000, 'Canada'), ('Tokyo', 6100, 'Japan'), ('Berlin', 600000, 'Germany')]\n"
     ]
    }
   ],
   "source": [
    "# view current table\n",
    "stmt = select(\n",
    "    [column(\"city_name\"), column(\"population\"), column(\"country\")]\n",
    ").select_from(city_stats_table)\n",
    "\n",
    "with engine.connect() as connection:\n",
    "    results = connection.execute(stmt).fetchall()\n",
    "    print(results)"
   ]
  },
  {
   "cell_type": "code",
   "execution_count": 46,
   "id": "61b93168",
   "metadata": {},
   "outputs": [
    {
     "name": "stderr",
     "output_type": "stream",
     "text": [
      "INFO:llama_index.indices.struct_store.sql_query:> Table desc str: Schema of table city_stats:\n",
      "Table 'city_stats' has columns: city_name (VARCHAR(16)), population (INTEGER), country (VARCHAR(16)) and foreign keys: .\n",
      "\n",
      "INFO:llama_index.token_counter.token_counter:> [query] Total LLM token usage: 252 tokens\n",
      "INFO:llama_index.token_counter.token_counter:> [query] Total embedding token usage: 0 tokens\n"
     ]
    },
    {
     "name": "stdout",
     "output_type": "stream",
     "text": [
      "[('Tokyo', 6100)]\n"
     ]
    }
   ],
   "source": [
    "# set Logging to DEBUG for more detailed outputs\n",
    "query_engine = index.as_query_engine()\n",
    "response = query_engine.query(\"Which city has the Miminum population?\")\n",
    "print(response)\n"
   ]
  },
  {
   "cell_type": "code",
   "execution_count": 47,
   "id": "0ee62eff",
   "metadata": {},
   "outputs": [
    {
     "data": {
      "text/plain": [
       "'SELECT city_name, MIN(population) \\nFROM city_stats;'"
      ]
     },
     "execution_count": 47,
     "metadata": {},
     "output_type": "execute_result"
    }
   ],
   "source": [
    "response.extra_info['sql_query']"
   ]
  },
  {
   "cell_type": "code",
   "execution_count": null,
   "id": "aec1ff8c",
   "metadata": {},
   "outputs": [],
   "source": []
  }
 ],
 "metadata": {
  "kernelspec": {
   "display_name": "Python 3 (ipykernel)",
   "language": "python",
   "name": "python3"
  },
  "language_info": {
   "codemirror_mode": {
    "name": "ipython",
    "version": 3
   },
   "file_extension": ".py",
   "mimetype": "text/x-python",
   "name": "python",
   "nbconvert_exporter": "python",
   "pygments_lexer": "ipython3",
   "version": "3.9.13"
  }
 },
 "nbformat": 4,
 "nbformat_minor": 5
}
